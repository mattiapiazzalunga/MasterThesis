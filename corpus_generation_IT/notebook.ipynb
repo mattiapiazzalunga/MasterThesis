{
 "cells": [
  {
   "cell_type": "markdown",
   "id": "31b0c1df07dbc85a",
   "metadata": {},
   "source": [
    "# Master Thesis - Mattia Piazzalunga\n",
    "In this notebook, the generation of the Italian dataset is carried out thanks to the collaboration with ANSA."
   ]
  },
  {
   "cell_type": "markdown",
   "id": "c8a41b9d08cbef1d",
   "metadata": {},
   "source": [
    "*Tile*: Bridging a GAP: Text Style Transfer from Journalistic to Conversational for enhanced social media dissemination of news\n",
    "\n",
    "*Supervisor*: Gabriella Pasi <br>\n",
    "*Author*: Mattia Piazzalunga\n",
    "\n",
    "*University*: Bicocca University of Milan <br>\n",
    "*Department*: Informatics, Systems and Communication <br>\n",
    "*Course*: Computer Science <br>\n",
    "*Academic year*: 2023/2024\n",
    "\n",
    "*Info*: This notebook was run locally. Download the whole repository before running.\n",
    "\n",
    "*For suggestions or questions*: mattiapiazzalunga@outlook.com"
   ]
  },
  {
   "cell_type": "markdown",
   "id": "5fd3a1794a97aa68",
   "metadata": {},
   "source": [
    "## Inizializzazion"
   ]
  },
  {
   "cell_type": "markdown",
   "id": "8f4834caf545021",
   "metadata": {},
   "source": [
    "### Dowloading libraires"
   ]
  },
  {
   "cell_type": "code",
   "execution_count": 303,
   "id": "c143b02d1245f180",
   "metadata": {
    "ExecuteTime": {
     "end_time": "2024-09-11T20:37:15.400692Z",
     "start_time": "2024-09-11T20:37:09.720849Z"
    }
   },
   "outputs": [
    {
     "name": "stdout",
     "output_type": "stream",
     "text": [
      "Requirement already satisfied: requests in c:\\users\\matti\\anaconda3\\lib\\site-packages (2.31.0)\n",
      "Requirement already satisfied: charset-normalizer<4,>=2 in c:\\users\\matti\\anaconda3\\lib\\site-packages (from requests) (2.0.4)\n",
      "Requirement already satisfied: idna<4,>=2.5 in c:\\users\\matti\\anaconda3\\lib\\site-packages (from requests) (3.4)\n",
      "Requirement already satisfied: urllib3<3,>=1.21.1 in c:\\users\\matti\\anaconda3\\lib\\site-packages (from requests) (1.26.20)\n",
      "Requirement already satisfied: certifi>=2017.4.17 in c:\\users\\matti\\anaconda3\\lib\\site-packages (from requests) (2024.2.2)\n"
     ]
    }
   ],
   "source": [
    "!pip install requests "
   ]
  },
  {
   "cell_type": "markdown",
   "id": "b0ed725f98e9b4a6",
   "metadata": {},
   "source": [
    "### Importing libraries"
   ]
  },
  {
   "cell_type": "code",
   "execution_count": 304,
   "id": "9009626af8356fa1",
   "metadata": {
    "ExecuteTime": {
     "end_time": "2024-09-11T20:37:15.406869Z",
     "start_time": "2024-09-11T20:37:15.402697Z"
    }
   },
   "outputs": [],
   "source": [
    "import glob\n",
    "import json\n",
    "import pandas as pd\n",
    "from urllib.parse import urlparse, parse_qs, unquote\n",
    "import requests\n",
    "from urllib.parse import urlparse\n",
    "import os\n",
    "import re\n",
    "import requests\n",
    "from bs4 import BeautifulSoup"
   ]
  },
  {
   "cell_type": "markdown",
   "id": "d2b2d7e7ad5c82b2",
   "metadata": {},
   "source": [
    "### Generating dataframe from json"
   ]
  },
  {
   "cell_type": "markdown",
   "id": "6f6f767907ced701",
   "metadata": {},
   "source": [
    "Extracting dataframe from json and removing nan"
   ]
  },
  {
   "cell_type": "code",
   "execution_count": 305,
   "id": "initial_id",
   "metadata": {
    "ExecuteTime": {
     "end_time": "2024-09-11T20:37:15.418199Z",
     "start_time": "2024-09-11T20:37:15.407878Z"
    },
    "collapsed": true
   },
   "outputs": [],
   "source": [
    "# Define a class to process JSON files\n",
    "class JSONFileProcessor:\n",
    "    def __init__(self, directory, attributes):\n",
    "        self.directory = directory\n",
    "        self.attributes = attributes\n",
    "\n",
    "    def extract_urls(self, text):\n",
    "        # Define a regex pattern to match URLs\n",
    "        url_pattern = r'https?://[^\\s]+'\n",
    "        # Find all URLs in the text (0 or more)\n",
    "        urls = re.findall(url_pattern, text)\n",
    "        # Remove the URLs from the text\n",
    "        content_without_urls = re.sub(url_pattern, '', text)\n",
    "        return urls, content_without_urls\n",
    "\n",
    "    def get_content_list(self):\n",
    "        # Get list of all JSON files in the specified directory\n",
    "        all_files = glob.glob(os.path.join(self.directory, \"*.json\"))\n",
    "\n",
    "        if not all_files:\n",
    "            raise ValueError(f\"No JSON files found in directory: {self.directory}\")\n",
    "\n",
    "        li = []\n",
    "\n",
    "        # Print the files being processed (debugging step)\n",
    "        print(f\"Files found: {all_files}\")\n",
    "\n",
    "        # Iterate over all files\n",
    "        for filepath in all_files:\n",
    "            try:\n",
    "                # Load each JSON file with UTF-8-sig encoding to handle BOM\n",
    "                with open(filepath, 'r', encoding='utf-8-sig') as file:\n",
    "                    data = json.load(file)\n",
    "\n",
    "                # Iterate over the data and extract relevant fields\n",
    "                for item in data:\n",
    "                    try:\n",
    "                        # Check if the item has all required attributes\n",
    "                        if all(attr in item for attr in self.attributes):\n",
    "                            # Create a dictionary for the current item\n",
    "                            record = {attr: item[attr] for attr in self.attributes}\n",
    "\n",
    "                            # Add the 'filename' field with the base name of the file, and place it first\n",
    "                            record = {'filename': os.path.basename(filepath).replace('.json', ''), **record}\n",
    "\n",
    "                            # Extract URLs from the content field and remove URLs from the content\n",
    "                            if 'content' in record:\n",
    "                                urls, cleaned_content = self.extract_urls(record['content'])\n",
    "                                record['content'] = cleaned_content.strip()  # Update the content without URLs\n",
    "                                record['link'] = urls  # Store the list of URLs in the 'link' column\n",
    "                                record['url_count'] = len(urls)  # Store the number of URLs in 'url_count' column\n",
    "                            else:\n",
    "                                record['link'] = []\n",
    "                                record['url_count'] = 0\n",
    "\n",
    "                            # Append the record as a DataFrame\n",
    "                            li.append(pd.DataFrame([record]))\n",
    "                        else:\n",
    "                            print(f\"Skipping record in file {filepath} due to missing attributes: {item}\")\n",
    "                    except Exception as e:\n",
    "                        print(f\"Error processing record in file {filepath}: {e}\")\n",
    "            except Exception as e:\n",
    "                print(f\"Error reading file {filepath}: {e}\")\n",
    "\n",
    "        # If no valid data was collected, raise an error\n",
    "        if not li:\n",
    "            raise ValueError(\"No valid data could be extracted from the JSON files.\")\n",
    "\n",
    "        # Concatenate all DataFrames into a single DataFrame\n",
    "        frame = pd.concat(li, axis=0, ignore_index=True)\n",
    "\n",
    "        # Return the DataFrame\n",
    "        return frame"
   ]
  },
  {
   "cell_type": "code",
   "execution_count": 306,
   "id": "e8d143a2f4076160",
   "metadata": {
    "ExecuteTime": {
     "end_time": "2024-09-11T20:37:15.920805Z",
     "start_time": "2024-09-11T20:37:15.419206Z"
    }
   },
   "outputs": [
    {
     "name": "stdout",
     "output_type": "stream",
     "text": [
      "Files found: ['../starting_dataset/IT\\\\ansa.json']\n"
     ]
    }
   ],
   "source": [
    "# Load the dataframe\n",
    "processor = JSONFileProcessor(directory='../starting_datasets/IT/', attributes=[\"content\"])\n",
    "df = processor.get_content_list()"
   ]
  },
  {
   "cell_type": "code",
   "execution_count": 307,
   "id": "526b3756ce0329f9",
   "metadata": {
    "ExecuteTime": {
     "end_time": "2024-09-11T20:37:15.932164Z",
     "start_time": "2024-09-11T20:37:15.922815Z"
    }
   },
   "outputs": [
    {
     "data": {
      "text/html": [
       "<div>\n",
       "<style scoped>\n",
       "    .dataframe tbody tr th:only-of-type {\n",
       "        vertical-align: middle;\n",
       "    }\n",
       "\n",
       "    .dataframe tbody tr th {\n",
       "        vertical-align: top;\n",
       "    }\n",
       "\n",
       "    .dataframe thead th {\n",
       "        text-align: right;\n",
       "    }\n",
       "</style>\n",
       "<table border=\"1\" class=\"dataframe\">\n",
       "  <thead>\n",
       "    <tr style=\"text-align: right;\">\n",
       "      <th></th>\n",
       "      <th>filename</th>\n",
       "      <th>content</th>\n",
       "      <th>link</th>\n",
       "      <th>url_count</th>\n",
       "    </tr>\n",
       "  </thead>\n",
       "  <tbody>\n",
       "    <tr>\n",
       "      <th>0</th>\n",
       "      <td>ansa</td>\n",
       "      <td>Un base jumper di 33 anni si è schiantato al s...</td>\n",
       "      <td>[https://l.facebook.com/l.php?u=https%3A%2F%2F...</td>\n",
       "      <td>1</td>\n",
       "    </tr>\n",
       "    <tr>\n",
       "      <th>1</th>\n",
       "      <td>ansa</td>\n",
       "      <td>Sterminate le api sul tetto del ministero dell...</td>\n",
       "      <td>[https://l.facebook.com/l.php?u=https%3A%2F%2F...</td>\n",
       "      <td>1</td>\n",
       "    </tr>\n",
       "    <tr>\n",
       "      <th>2</th>\n",
       "      <td>ansa</td>\n",
       "      <td>Le laureate italiane guadagnano la metà dei co...</td>\n",
       "      <td>[https://l.facebook.com/l.php?u=https%3A%2F%2F...</td>\n",
       "      <td>1</td>\n",
       "    </tr>\n",
       "    <tr>\n",
       "      <th>3</th>\n",
       "      <td>ansa</td>\n",
       "      <td>Le opposizioni sono indisponibili a rinnovare ...</td>\n",
       "      <td>[https://l.facebook.com/l.php?u=https%3A%2F%2F...</td>\n",
       "      <td>1</td>\n",
       "    </tr>\n",
       "    <tr>\n",
       "      <th>4</th>\n",
       "      <td>ansa</td>\n",
       "      <td>Beyoncé 'troppo nera', snobbata ai premi del c...</td>\n",
       "      <td>[https://l.facebook.com/l.php?u=https%3A%2F%2F...</td>\n",
       "      <td>1</td>\n",
       "    </tr>\n",
       "  </tbody>\n",
       "</table>\n",
       "</div>"
      ],
      "text/plain": [
       "  filename                                            content  \\\n",
       "0     ansa  Un base jumper di 33 anni si è schiantato al s...   \n",
       "1     ansa  Sterminate le api sul tetto del ministero dell...   \n",
       "2     ansa  Le laureate italiane guadagnano la metà dei co...   \n",
       "3     ansa  Le opposizioni sono indisponibili a rinnovare ...   \n",
       "4     ansa  Beyoncé 'troppo nera', snobbata ai premi del c...   \n",
       "\n",
       "                                                link  url_count  \n",
       "0  [https://l.facebook.com/l.php?u=https%3A%2F%2F...          1  \n",
       "1  [https://l.facebook.com/l.php?u=https%3A%2F%2F...          1  \n",
       "2  [https://l.facebook.com/l.php?u=https%3A%2F%2F...          1  \n",
       "3  [https://l.facebook.com/l.php?u=https%3A%2F%2F...          1  \n",
       "4  [https://l.facebook.com/l.php?u=https%3A%2F%2F...          1  "
      ]
     },
     "execution_count": 307,
     "metadata": {},
     "output_type": "execute_result"
    }
   ],
   "source": [
    "#Check the dataframe\n",
    "df.head()"
   ]
  },
  {
   "cell_type": "code",
   "execution_count": 308,
   "id": "e5cba41928a294b1",
   "metadata": {
    "ExecuteTime": {
     "end_time": "2024-09-11T20:37:15.940956Z",
     "start_time": "2024-09-11T20:37:15.934171Z"
    }
   },
   "outputs": [],
   "source": [
    "# Replace empty strings with pd.NA\n",
    "df.replace(\"\", pd.NA, inplace=True)\n",
    "\n",
    "# Replace 'nan' and '<na>' strings with pd.NA\n",
    "df.replace(['nan', '<na>'], pd.NA, inplace=True)"
   ]
  },
  {
   "cell_type": "code",
   "execution_count": 309,
   "id": "61ba676dbaabdcef",
   "metadata": {
    "ExecuteTime": {
     "end_time": "2024-09-11T20:37:15.947697Z",
     "start_time": "2024-09-11T20:37:15.942963Z"
    }
   },
   "outputs": [
    {
     "data": {
      "text/plain": [
       "1830"
      ]
     },
     "execution_count": 309,
     "metadata": {},
     "output_type": "execute_result"
    }
   ],
   "source": [
    "len(df)"
   ]
  },
  {
   "cell_type": "code",
   "execution_count": 310,
   "id": "17bb43a958c9d61e",
   "metadata": {
    "ExecuteTime": {
     "end_time": "2024-09-11T20:37:15.954972Z",
     "start_time": "2024-09-11T20:37:15.948732Z"
    }
   },
   "outputs": [],
   "source": [
    "df_filtered = df.dropna()"
   ]
  },
  {
   "cell_type": "code",
   "execution_count": 311,
   "id": "263ec026894d680c",
   "metadata": {
    "ExecuteTime": {
     "end_time": "2024-09-11T20:37:15.961924Z",
     "start_time": "2024-09-11T20:37:15.955979Z"
    }
   },
   "outputs": [
    {
     "data": {
      "text/plain": [
       "1827"
      ]
     },
     "execution_count": 311,
     "metadata": {},
     "output_type": "execute_result"
    }
   ],
   "source": [
    "len(df_filtered)"
   ]
  },
  {
   "cell_type": "code",
   "execution_count": 312,
   "id": "448ef95523564bb8",
   "metadata": {
    "ExecuteTime": {
     "end_time": "2024-09-11T20:37:15.968513Z",
     "start_time": "2024-09-11T20:37:15.963930Z"
    }
   },
   "outputs": [],
   "source": [
    "# Remove rows with no URLs\n",
    "df_filtered = df_filtered[df_filtered['url_count'] != 0]"
   ]
  },
  {
   "cell_type": "code",
   "execution_count": 313,
   "id": "a287c2054b3c7f93",
   "metadata": {
    "ExecuteTime": {
     "end_time": "2024-09-11T20:37:15.974798Z",
     "start_time": "2024-09-11T20:37:15.969519Z"
    }
   },
   "outputs": [
    {
     "data": {
      "text/plain": [
       "1802"
      ]
     },
     "execution_count": 313,
     "metadata": {},
     "output_type": "execute_result"
    }
   ],
   "source": [
    "len(df_filtered)"
   ]
  },
  {
   "cell_type": "markdown",
   "id": "8bad66e624bb6090",
   "metadata": {},
   "source": [
    "Removing evident harmful noise"
   ]
  },
  {
   "cell_type": "code",
   "execution_count": 314,
   "id": "60238d42057b83e3",
   "metadata": {
    "ExecuteTime": {
     "end_time": "2024-09-11T20:37:15.984824Z",
     "start_time": "2024-09-11T20:37:15.975805Z"
    }
   },
   "outputs": [],
   "source": [
    "# Remove rows where 'content' starts with \"with a story:\" after trimming and converting to lowercase\n",
    "df_filtered = df_filtered[~df_filtered['content'].str.strip().str.lower().str.startswith(\"with a story:\")]"
   ]
  },
  {
   "cell_type": "code",
   "execution_count": 315,
   "id": "c4a8f0bfc168f47e",
   "metadata": {
    "ExecuteTime": {
     "end_time": "2024-09-11T20:37:15.992098Z",
     "start_time": "2024-09-11T20:37:15.986831Z"
    }
   },
   "outputs": [
    {
     "data": {
      "text/plain": [
       "1701"
      ]
     },
     "execution_count": 315,
     "metadata": {},
     "output_type": "execute_result"
    }
   ],
   "source": [
    "len(df_filtered)"
   ]
  },
  {
   "cell_type": "markdown",
   "id": "124f73418331cc4a",
   "metadata": {},
   "source": [
    "### Getting real urls"
   ]
  },
  {
   "cell_type": "code",
   "execution_count": 316,
   "id": "2e15f6b536d08fee",
   "metadata": {
    "ExecuteTime": {
     "end_time": "2024-09-11T20:37:16.039826Z",
     "start_time": "2024-09-11T20:37:15.996107Z"
    }
   },
   "outputs": [],
   "source": [
    "# Function to extract the real URL from a Facebook redirect link\n",
    "def extract_real_url(facebook_url):\n",
    "    try:\n",
    "        # Parse the URL and extract the query parameters\n",
    "        parsed_url = urlparse(facebook_url)\n",
    "        query_params = parse_qs(parsed_url.query)\n",
    "\n",
    "        # The real URL is contained in the 'u' parameter\n",
    "        if 'u' in query_params:\n",
    "            real_url = unquote(query_params['u'][0])  # Decode the URL encoded in 'u' parameter\n",
    "            return real_url\n",
    "        return facebook_url  # If 'u' is not present, return the original URL\n",
    "    except Exception as e:\n",
    "        return None  # Return None if any issue occurs\n",
    "\n",
    "# Function to process a list of URLs and extract real URLs from Facebook redirect links\n",
    "def resolve_urls(links):\n",
    "    if isinstance(links, list):\n",
    "        return [extract_real_url(url) for url in links]\n",
    "    return []\n",
    "\n",
    "# Apply the function to each cell in the 'link' column\n",
    "df_filtered['resolved_link'] = df_filtered['link'].apply(resolve_urls)"
   ]
  },
  {
   "cell_type": "code",
   "execution_count": 317,
   "id": "310efaf366872ba3",
   "metadata": {
    "ExecuteTime": {
     "end_time": "2024-09-11T20:37:16.050978Z",
     "start_time": "2024-09-11T20:37:16.040831Z"
    }
   },
   "outputs": [
    {
     "data": {
      "text/html": [
       "<div>\n",
       "<style scoped>\n",
       "    .dataframe tbody tr th:only-of-type {\n",
       "        vertical-align: middle;\n",
       "    }\n",
       "\n",
       "    .dataframe tbody tr th {\n",
       "        vertical-align: top;\n",
       "    }\n",
       "\n",
       "    .dataframe thead th {\n",
       "        text-align: right;\n",
       "    }\n",
       "</style>\n",
       "<table border=\"1\" class=\"dataframe\">\n",
       "  <thead>\n",
       "    <tr style=\"text-align: right;\">\n",
       "      <th></th>\n",
       "      <th>filename</th>\n",
       "      <th>content</th>\n",
       "      <th>link</th>\n",
       "      <th>url_count</th>\n",
       "      <th>resolved_link</th>\n",
       "    </tr>\n",
       "  </thead>\n",
       "  <tbody>\n",
       "    <tr>\n",
       "      <th>0</th>\n",
       "      <td>ansa</td>\n",
       "      <td>Un base jumper di 33 anni si è schiantato al s...</td>\n",
       "      <td>[https://l.facebook.com/l.php?u=https%3A%2F%2F...</td>\n",
       "      <td>1</td>\n",
       "      <td>[https://ow.ly/okhO50TkhvH]</td>\n",
       "    </tr>\n",
       "    <tr>\n",
       "      <th>1</th>\n",
       "      <td>ansa</td>\n",
       "      <td>Sterminate le api sul tetto del ministero dell...</td>\n",
       "      <td>[https://l.facebook.com/l.php?u=https%3A%2F%2F...</td>\n",
       "      <td>1</td>\n",
       "      <td>[https://ow.ly/TJb750TkgWX]</td>\n",
       "    </tr>\n",
       "    <tr>\n",
       "      <th>2</th>\n",
       "      <td>ansa</td>\n",
       "      <td>Le laureate italiane guadagnano la metà dei co...</td>\n",
       "      <td>[https://l.facebook.com/l.php?u=https%3A%2F%2F...</td>\n",
       "      <td>1</td>\n",
       "      <td>[https://ow.ly/8Fjx50TkfhA]</td>\n",
       "    </tr>\n",
       "    <tr>\n",
       "      <th>3</th>\n",
       "      <td>ansa</td>\n",
       "      <td>Le opposizioni sono indisponibili a rinnovare ...</td>\n",
       "      <td>[https://l.facebook.com/l.php?u=https%3A%2F%2F...</td>\n",
       "      <td>1</td>\n",
       "      <td>[https://www.ansa.it/sito/notizie/politica/202...</td>\n",
       "    </tr>\n",
       "    <tr>\n",
       "      <th>4</th>\n",
       "      <td>ansa</td>\n",
       "      <td>Beyoncé 'troppo nera', snobbata ai premi del c...</td>\n",
       "      <td>[https://l.facebook.com/l.php?u=https%3A%2F%2F...</td>\n",
       "      <td>1</td>\n",
       "      <td>[https://ow.ly/H86V50TkbfB]</td>\n",
       "    </tr>\n",
       "  </tbody>\n",
       "</table>\n",
       "</div>"
      ],
      "text/plain": [
       "  filename                                            content  \\\n",
       "0     ansa  Un base jumper di 33 anni si è schiantato al s...   \n",
       "1     ansa  Sterminate le api sul tetto del ministero dell...   \n",
       "2     ansa  Le laureate italiane guadagnano la metà dei co...   \n",
       "3     ansa  Le opposizioni sono indisponibili a rinnovare ...   \n",
       "4     ansa  Beyoncé 'troppo nera', snobbata ai premi del c...   \n",
       "\n",
       "                                                link  url_count  \\\n",
       "0  [https://l.facebook.com/l.php?u=https%3A%2F%2F...          1   \n",
       "1  [https://l.facebook.com/l.php?u=https%3A%2F%2F...          1   \n",
       "2  [https://l.facebook.com/l.php?u=https%3A%2F%2F...          1   \n",
       "3  [https://l.facebook.com/l.php?u=https%3A%2F%2F...          1   \n",
       "4  [https://l.facebook.com/l.php?u=https%3A%2F%2F...          1   \n",
       "\n",
       "                                       resolved_link  \n",
       "0                        [https://ow.ly/okhO50TkhvH]  \n",
       "1                        [https://ow.ly/TJb750TkgWX]  \n",
       "2                        [https://ow.ly/8Fjx50TkfhA]  \n",
       "3  [https://www.ansa.it/sito/notizie/politica/202...  \n",
       "4                        [https://ow.ly/H86V50TkbfB]  "
      ]
     },
     "execution_count": 317,
     "metadata": {},
     "output_type": "execute_result"
    }
   ],
   "source": [
    "df_filtered.head()"
   ]
  },
  {
   "cell_type": "code",
   "execution_count": 318,
   "id": "4b8cceb5d37cc3ce",
   "metadata": {
    "ExecuteTime": {
     "end_time": "2024-09-11T20:37:16.057408Z",
     "start_time": "2024-09-11T20:37:16.051984Z"
    }
   },
   "outputs": [],
   "source": [
    "# Function to get the final URL after following redirects\n",
    "def get_final_url(url):\n",
    "    try:\n",
    "        response = requests.get(url, allow_redirects=True, timeout=10)\n",
    "        final_url = response.url\n",
    "        return final_url\n",
    "    except requests.RequestException:\n",
    "        return url  # Return the original URL if any issue occurs\n",
    "\n",
    "# Function to process each list of URLs, resolving only non-ansa and non-facebook URLs\n",
    "def resolve_non_ansa_facebook_urls(links):\n",
    "    resolved = []\n",
    "    for url in links:\n",
    "        parsed_url = urlparse(url)\n",
    "        # Check if the URL is NOT from 'www.ansa.it' or 'www.facebook.com'\n",
    "        if not (parsed_url.netloc == 'www.ansa.it' or parsed_url.netloc == 'www.facebook.com'):\n",
    "            resolved.append(get_final_url(url))  # Resolve and replace non-ansa, non-facebook URLs\n",
    "        else:\n",
    "            resolved.append(url)  # Keep the original URL if it's from 'ansa' or 'facebook'\n",
    "    return resolved"
   ]
  },
  {
   "cell_type": "code",
   "execution_count": 319,
   "id": "d7f9ebcf77d3bf81",
   "metadata": {
    "ExecuteTime": {
     "end_time": "2024-09-11T20:54:19.377561Z",
     "start_time": "2024-09-11T20:37:16.059415Z"
    }
   },
   "outputs": [],
   "source": [
    "# Apply the function to each cell in the 'resolved_link' column\n",
    "df_filtered['resolved_link'] = df_filtered['resolved_link'].apply(resolve_non_ansa_facebook_urls)"
   ]
  },
  {
   "cell_type": "code",
   "execution_count": 320,
   "id": "3880cfd68bda602e",
   "metadata": {
    "ExecuteTime": {
     "end_time": "2024-09-11T20:54:19.388339Z",
     "start_time": "2024-09-11T20:54:19.378577Z"
    }
   },
   "outputs": [
    {
     "data": {
      "text/html": [
       "<div>\n",
       "<style scoped>\n",
       "    .dataframe tbody tr th:only-of-type {\n",
       "        vertical-align: middle;\n",
       "    }\n",
       "\n",
       "    .dataframe tbody tr th {\n",
       "        vertical-align: top;\n",
       "    }\n",
       "\n",
       "    .dataframe thead th {\n",
       "        text-align: right;\n",
       "    }\n",
       "</style>\n",
       "<table border=\"1\" class=\"dataframe\">\n",
       "  <thead>\n",
       "    <tr style=\"text-align: right;\">\n",
       "      <th></th>\n",
       "      <th>filename</th>\n",
       "      <th>content</th>\n",
       "      <th>link</th>\n",
       "      <th>url_count</th>\n",
       "      <th>resolved_link</th>\n",
       "    </tr>\n",
       "  </thead>\n",
       "  <tbody>\n",
       "    <tr>\n",
       "      <th>0</th>\n",
       "      <td>ansa</td>\n",
       "      <td>Un base jumper di 33 anni si è schiantato al s...</td>\n",
       "      <td>[https://l.facebook.com/l.php?u=https%3A%2F%2F...</td>\n",
       "      <td>1</td>\n",
       "      <td>[https://www.ansa.it/lombardia/notizie/2024/09...</td>\n",
       "    </tr>\n",
       "    <tr>\n",
       "      <th>1</th>\n",
       "      <td>ansa</td>\n",
       "      <td>Sterminate le api sul tetto del ministero dell...</td>\n",
       "      <td>[https://l.facebook.com/l.php?u=https%3A%2F%2F...</td>\n",
       "      <td>1</td>\n",
       "      <td>[https://www.ansa.it/canale_terraegusto/notizi...</td>\n",
       "    </tr>\n",
       "    <tr>\n",
       "      <th>2</th>\n",
       "      <td>ansa</td>\n",
       "      <td>Le laureate italiane guadagnano la metà dei co...</td>\n",
       "      <td>[https://l.facebook.com/l.php?u=https%3A%2F%2F...</td>\n",
       "      <td>1</td>\n",
       "      <td>[https://www.ansa.it/sito/notizie/economia/pmi...</td>\n",
       "    </tr>\n",
       "    <tr>\n",
       "      <th>3</th>\n",
       "      <td>ansa</td>\n",
       "      <td>Le opposizioni sono indisponibili a rinnovare ...</td>\n",
       "      <td>[https://l.facebook.com/l.php?u=https%3A%2F%2F...</td>\n",
       "      <td>1</td>\n",
       "      <td>[https://www.ansa.it/sito/notizie/politica/202...</td>\n",
       "    </tr>\n",
       "    <tr>\n",
       "      <th>4</th>\n",
       "      <td>ansa</td>\n",
       "      <td>Beyoncé 'troppo nera', snobbata ai premi del c...</td>\n",
       "      <td>[https://l.facebook.com/l.php?u=https%3A%2F%2F...</td>\n",
       "      <td>1</td>\n",
       "      <td>[https://www.ansa.it/canale_lifestyle/notizie/...</td>\n",
       "    </tr>\n",
       "  </tbody>\n",
       "</table>\n",
       "</div>"
      ],
      "text/plain": [
       "  filename                                            content  \\\n",
       "0     ansa  Un base jumper di 33 anni si è schiantato al s...   \n",
       "1     ansa  Sterminate le api sul tetto del ministero dell...   \n",
       "2     ansa  Le laureate italiane guadagnano la metà dei co...   \n",
       "3     ansa  Le opposizioni sono indisponibili a rinnovare ...   \n",
       "4     ansa  Beyoncé 'troppo nera', snobbata ai premi del c...   \n",
       "\n",
       "                                                link  url_count  \\\n",
       "0  [https://l.facebook.com/l.php?u=https%3A%2F%2F...          1   \n",
       "1  [https://l.facebook.com/l.php?u=https%3A%2F%2F...          1   \n",
       "2  [https://l.facebook.com/l.php?u=https%3A%2F%2F...          1   \n",
       "3  [https://l.facebook.com/l.php?u=https%3A%2F%2F...          1   \n",
       "4  [https://l.facebook.com/l.php?u=https%3A%2F%2F...          1   \n",
       "\n",
       "                                       resolved_link  \n",
       "0  [https://www.ansa.it/lombardia/notizie/2024/09...  \n",
       "1  [https://www.ansa.it/canale_terraegusto/notizi...  \n",
       "2  [https://www.ansa.it/sito/notizie/economia/pmi...  \n",
       "3  [https://www.ansa.it/sito/notizie/politica/202...  \n",
       "4  [https://www.ansa.it/canale_lifestyle/notizie/...  "
      ]
     },
     "execution_count": 320,
     "metadata": {},
     "output_type": "execute_result"
    }
   ],
   "source": [
    "df_filtered.head()"
   ]
  },
  {
   "cell_type": "code",
   "execution_count": 321,
   "id": "6cacc10f2b5b57f5",
   "metadata": {
    "ExecuteTime": {
     "end_time": "2024-09-11T20:54:19.394419Z",
     "start_time": "2024-09-11T20:54:19.390347Z"
    }
   },
   "outputs": [],
   "source": [
    "# Function to filter out URLs that don't contain \"/notizie/\"\n",
    "def filter_notizie_links(links):\n",
    "    return [url for url in links if '/notizie/' in url]"
   ]
  },
  {
   "cell_type": "code",
   "execution_count": 322,
   "id": "15ef70a2aa0cfcde",
   "metadata": {
    "ExecuteTime": {
     "end_time": "2024-09-11T20:54:19.406285Z",
     "start_time": "2024-09-11T20:54:19.396430Z"
    }
   },
   "outputs": [],
   "source": [
    "df_filtered['resolved_link'] = df_filtered['resolved_link'].apply(filter_notizie_links)"
   ]
  },
  {
   "cell_type": "code",
   "execution_count": 323,
   "id": "5af4fea8cadf1f44",
   "metadata": {
    "ExecuteTime": {
     "end_time": "2024-09-11T20:54:19.412103Z",
     "start_time": "2024-09-11T20:54:19.407295Z"
    }
   },
   "outputs": [],
   "source": [
    "df_filtered['url_count'] = df_filtered['resolved_link'].apply(len)"
   ]
  },
  {
   "cell_type": "code",
   "execution_count": 324,
   "id": "231f0e4fdb832859",
   "metadata": {
    "ExecuteTime": {
     "end_time": "2024-09-11T20:54:19.427943Z",
     "start_time": "2024-09-11T20:54:19.413117Z"
    }
   },
   "outputs": [
    {
     "data": {
      "text/html": [
       "<div>\n",
       "<style scoped>\n",
       "    .dataframe tbody tr th:only-of-type {\n",
       "        vertical-align: middle;\n",
       "    }\n",
       "\n",
       "    .dataframe tbody tr th {\n",
       "        vertical-align: top;\n",
       "    }\n",
       "\n",
       "    .dataframe thead th {\n",
       "        text-align: right;\n",
       "    }\n",
       "</style>\n",
       "<table border=\"1\" class=\"dataframe\">\n",
       "  <thead>\n",
       "    <tr style=\"text-align: right;\">\n",
       "      <th></th>\n",
       "      <th>filename</th>\n",
       "      <th>content</th>\n",
       "      <th>link</th>\n",
       "      <th>url_count</th>\n",
       "      <th>resolved_link</th>\n",
       "    </tr>\n",
       "  </thead>\n",
       "  <tbody>\n",
       "    <tr>\n",
       "      <th>0</th>\n",
       "      <td>ansa</td>\n",
       "      <td>Un base jumper di 33 anni si è schiantato al s...</td>\n",
       "      <td>[https://l.facebook.com/l.php?u=https%3A%2F%2F...</td>\n",
       "      <td>1</td>\n",
       "      <td>[https://www.ansa.it/lombardia/notizie/2024/09...</td>\n",
       "    </tr>\n",
       "    <tr>\n",
       "      <th>1</th>\n",
       "      <td>ansa</td>\n",
       "      <td>Sterminate le api sul tetto del ministero dell...</td>\n",
       "      <td>[https://l.facebook.com/l.php?u=https%3A%2F%2F...</td>\n",
       "      <td>1</td>\n",
       "      <td>[https://www.ansa.it/canale_terraegusto/notizi...</td>\n",
       "    </tr>\n",
       "    <tr>\n",
       "      <th>2</th>\n",
       "      <td>ansa</td>\n",
       "      <td>Le laureate italiane guadagnano la metà dei co...</td>\n",
       "      <td>[https://l.facebook.com/l.php?u=https%3A%2F%2F...</td>\n",
       "      <td>1</td>\n",
       "      <td>[https://www.ansa.it/sito/notizie/economia/pmi...</td>\n",
       "    </tr>\n",
       "    <tr>\n",
       "      <th>3</th>\n",
       "      <td>ansa</td>\n",
       "      <td>Le opposizioni sono indisponibili a rinnovare ...</td>\n",
       "      <td>[https://l.facebook.com/l.php?u=https%3A%2F%2F...</td>\n",
       "      <td>1</td>\n",
       "      <td>[https://www.ansa.it/sito/notizie/politica/202...</td>\n",
       "    </tr>\n",
       "    <tr>\n",
       "      <th>4</th>\n",
       "      <td>ansa</td>\n",
       "      <td>Beyoncé 'troppo nera', snobbata ai premi del c...</td>\n",
       "      <td>[https://l.facebook.com/l.php?u=https%3A%2F%2F...</td>\n",
       "      <td>1</td>\n",
       "      <td>[https://www.ansa.it/canale_lifestyle/notizie/...</td>\n",
       "    </tr>\n",
       "    <tr>\n",
       "      <th>...</th>\n",
       "      <td>...</td>\n",
       "      <td>...</td>\n",
       "      <td>...</td>\n",
       "      <td>...</td>\n",
       "      <td>...</td>\n",
       "    </tr>\n",
       "    <tr>\n",
       "      <th>1825</th>\n",
       "      <td>ansa</td>\n",
       "      <td>\"Il mio pensiero va alle mamme dei soldati ucr...</td>\n",
       "      <td>[https://l.facebook.com/l.php?u=http%3A%2F%2Fo...</td>\n",
       "      <td>1</td>\n",
       "      <td>[https://www.ansa.it/sito/notizie/politica/202...</td>\n",
       "    </tr>\n",
       "    <tr>\n",
       "      <th>1826</th>\n",
       "      <td>ansa</td>\n",
       "      <td>Wikipedia scritta con l'intelligenza artificia...</td>\n",
       "      <td>[https://l.facebook.com/l.php?u=http%3A%2F%2Fa...</td>\n",
       "      <td>1</td>\n",
       "      <td>[https://www.ansa.it/sito/notizie/tecnologia/h...</td>\n",
       "    </tr>\n",
       "    <tr>\n",
       "      <th>1827</th>\n",
       "      <td>ansa</td>\n",
       "      <td>Zerocalcare ha messo i riflettori sugli ezidi ...</td>\n",
       "      <td>[https://l.facebook.com/l.php?u=https%3A%2F%2F...</td>\n",
       "      <td>1</td>\n",
       "      <td>[https://www.ansa.it/sito/notizie/cultura/libr...</td>\n",
       "    </tr>\n",
       "    <tr>\n",
       "      <th>1828</th>\n",
       "      <td>ansa</td>\n",
       "      <td>L'Antitrust ha avviato un'istruttoria nei conf...</td>\n",
       "      <td>[https://l.facebook.com/l.php?u=https%3A%2F%2F...</td>\n",
       "      <td>1</td>\n",
       "      <td>[https://www.ansa.it/sito/notizie/cultura/2023...</td>\n",
       "    </tr>\n",
       "    <tr>\n",
       "      <th>1829</th>\n",
       "      <td>ansa</td>\n",
       "      <td>Scontri sono scoppiati all'interno della mosch...</td>\n",
       "      <td>[https://l.facebook.com/l.php?u=http%3A%2F%2Fo...</td>\n",
       "      <td>1</td>\n",
       "      <td>[https://www.ansa.it/sito/notizie/mondo/medioo...</td>\n",
       "    </tr>\n",
       "  </tbody>\n",
       "</table>\n",
       "<p>1701 rows × 5 columns</p>\n",
       "</div>"
      ],
      "text/plain": [
       "     filename                                            content  \\\n",
       "0        ansa  Un base jumper di 33 anni si è schiantato al s...   \n",
       "1        ansa  Sterminate le api sul tetto del ministero dell...   \n",
       "2        ansa  Le laureate italiane guadagnano la metà dei co...   \n",
       "3        ansa  Le opposizioni sono indisponibili a rinnovare ...   \n",
       "4        ansa  Beyoncé 'troppo nera', snobbata ai premi del c...   \n",
       "...       ...                                                ...   \n",
       "1825     ansa  \"Il mio pensiero va alle mamme dei soldati ucr...   \n",
       "1826     ansa  Wikipedia scritta con l'intelligenza artificia...   \n",
       "1827     ansa  Zerocalcare ha messo i riflettori sugli ezidi ...   \n",
       "1828     ansa  L'Antitrust ha avviato un'istruttoria nei conf...   \n",
       "1829     ansa  Scontri sono scoppiati all'interno della mosch...   \n",
       "\n",
       "                                                   link  url_count  \\\n",
       "0     [https://l.facebook.com/l.php?u=https%3A%2F%2F...          1   \n",
       "1     [https://l.facebook.com/l.php?u=https%3A%2F%2F...          1   \n",
       "2     [https://l.facebook.com/l.php?u=https%3A%2F%2F...          1   \n",
       "3     [https://l.facebook.com/l.php?u=https%3A%2F%2F...          1   \n",
       "4     [https://l.facebook.com/l.php?u=https%3A%2F%2F...          1   \n",
       "...                                                 ...        ...   \n",
       "1825  [https://l.facebook.com/l.php?u=http%3A%2F%2Fo...          1   \n",
       "1826  [https://l.facebook.com/l.php?u=http%3A%2F%2Fa...          1   \n",
       "1827  [https://l.facebook.com/l.php?u=https%3A%2F%2F...          1   \n",
       "1828  [https://l.facebook.com/l.php?u=https%3A%2F%2F...          1   \n",
       "1829  [https://l.facebook.com/l.php?u=http%3A%2F%2Fo...          1   \n",
       "\n",
       "                                          resolved_link  \n",
       "0     [https://www.ansa.it/lombardia/notizie/2024/09...  \n",
       "1     [https://www.ansa.it/canale_terraegusto/notizi...  \n",
       "2     [https://www.ansa.it/sito/notizie/economia/pmi...  \n",
       "3     [https://www.ansa.it/sito/notizie/politica/202...  \n",
       "4     [https://www.ansa.it/canale_lifestyle/notizie/...  \n",
       "...                                                 ...  \n",
       "1825  [https://www.ansa.it/sito/notizie/politica/202...  \n",
       "1826  [https://www.ansa.it/sito/notizie/tecnologia/h...  \n",
       "1827  [https://www.ansa.it/sito/notizie/cultura/libr...  \n",
       "1828  [https://www.ansa.it/sito/notizie/cultura/2023...  \n",
       "1829  [https://www.ansa.it/sito/notizie/mondo/medioo...  \n",
       "\n",
       "[1701 rows x 5 columns]"
      ]
     },
     "execution_count": 324,
     "metadata": {},
     "output_type": "execute_result"
    }
   ],
   "source": [
    "df_filtered"
   ]
  },
  {
   "cell_type": "code",
   "execution_count": 325,
   "id": "f13030f435c247d0",
   "metadata": {
    "ExecuteTime": {
     "end_time": "2024-09-11T20:54:19.435178Z",
     "start_time": "2024-09-11T20:54:19.429954Z"
    }
   },
   "outputs": [
    {
     "data": {
      "text/plain": [
       "1701"
      ]
     },
     "execution_count": 325,
     "metadata": {},
     "output_type": "execute_result"
    }
   ],
   "source": [
    "len(df_filtered)"
   ]
  },
  {
   "cell_type": "code",
   "execution_count": 326,
   "id": "a1c5546329c722db",
   "metadata": {
    "ExecuteTime": {
     "end_time": "2024-09-11T20:54:19.448295Z",
     "start_time": "2024-09-11T20:54:19.436186Z"
    }
   },
   "outputs": [],
   "source": [
    "# Remove rows with no URLs\n",
    "df_filtered = df_filtered[df_filtered['url_count'] != 0]"
   ]
  },
  {
   "cell_type": "code",
   "execution_count": 327,
   "id": "ce72c2789da6809a",
   "metadata": {
    "ExecuteTime": {
     "end_time": "2024-09-11T20:54:19.455884Z",
     "start_time": "2024-09-11T20:54:19.450306Z"
    }
   },
   "outputs": [
    {
     "data": {
      "text/plain": [
       "1519"
      ]
     },
     "execution_count": 327,
     "metadata": {},
     "output_type": "execute_result"
    }
   ],
   "source": [
    "len(df_filtered)"
   ]
  },
  {
   "cell_type": "code",
   "execution_count": 328,
   "id": "6aa42f80eb9c1c86",
   "metadata": {
    "ExecuteTime": {
     "end_time": "2024-09-11T20:54:19.462509Z",
     "start_time": "2024-09-11T20:54:19.456896Z"
    }
   },
   "outputs": [],
   "source": [
    "# Function to remove the all URLs keeping only the last one.\n",
    "def remove_urls_not_last(links):\n",
    "    if len(links) > 1:\n",
    "        return [links[-1]]  # Keep only the last URL if there are multiple\n",
    "    return links  # Return the original list if there's only one or no URLs"
   ]
  },
  {
   "cell_type": "code",
   "execution_count": 329,
   "id": "37cfb1fe45f07fb6",
   "metadata": {
    "ExecuteTime": {
     "end_time": "2024-09-11T20:54:19.470481Z",
     "start_time": "2024-09-11T20:54:19.463516Z"
    }
   },
   "outputs": [],
   "source": [
    "# Step 3: Remove the first URL if there are two URLs\n",
    "df_filtered.loc[:, 'resolved_link'] = df_filtered['resolved_link'].apply(remove_urls_not_last)"
   ]
  },
  {
   "cell_type": "code",
   "execution_count": 330,
   "id": "fe4b416cce1ff614",
   "metadata": {
    "ExecuteTime": {
     "end_time": "2024-09-11T20:54:19.483532Z",
     "start_time": "2024-09-11T20:54:19.472491Z"
    }
   },
   "outputs": [
    {
     "data": {
      "text/html": [
       "<div>\n",
       "<style scoped>\n",
       "    .dataframe tbody tr th:only-of-type {\n",
       "        vertical-align: middle;\n",
       "    }\n",
       "\n",
       "    .dataframe tbody tr th {\n",
       "        vertical-align: top;\n",
       "    }\n",
       "\n",
       "    .dataframe thead th {\n",
       "        text-align: right;\n",
       "    }\n",
       "</style>\n",
       "<table border=\"1\" class=\"dataframe\">\n",
       "  <thead>\n",
       "    <tr style=\"text-align: right;\">\n",
       "      <th></th>\n",
       "      <th>filename</th>\n",
       "      <th>content</th>\n",
       "      <th>link</th>\n",
       "      <th>url_count</th>\n",
       "      <th>resolved_link</th>\n",
       "    </tr>\n",
       "  </thead>\n",
       "  <tbody>\n",
       "    <tr>\n",
       "      <th>0</th>\n",
       "      <td>ansa</td>\n",
       "      <td>Un base jumper di 33 anni si è schiantato al s...</td>\n",
       "      <td>[https://l.facebook.com/l.php?u=https%3A%2F%2F...</td>\n",
       "      <td>1</td>\n",
       "      <td>[https://www.ansa.it/lombardia/notizie/2024/09...</td>\n",
       "    </tr>\n",
       "    <tr>\n",
       "      <th>1</th>\n",
       "      <td>ansa</td>\n",
       "      <td>Sterminate le api sul tetto del ministero dell...</td>\n",
       "      <td>[https://l.facebook.com/l.php?u=https%3A%2F%2F...</td>\n",
       "      <td>1</td>\n",
       "      <td>[https://www.ansa.it/canale_terraegusto/notizi...</td>\n",
       "    </tr>\n",
       "    <tr>\n",
       "      <th>2</th>\n",
       "      <td>ansa</td>\n",
       "      <td>Le laureate italiane guadagnano la metà dei co...</td>\n",
       "      <td>[https://l.facebook.com/l.php?u=https%3A%2F%2F...</td>\n",
       "      <td>1</td>\n",
       "      <td>[https://www.ansa.it/sito/notizie/economia/pmi...</td>\n",
       "    </tr>\n",
       "    <tr>\n",
       "      <th>3</th>\n",
       "      <td>ansa</td>\n",
       "      <td>Le opposizioni sono indisponibili a rinnovare ...</td>\n",
       "      <td>[https://l.facebook.com/l.php?u=https%3A%2F%2F...</td>\n",
       "      <td>1</td>\n",
       "      <td>[https://www.ansa.it/sito/notizie/politica/202...</td>\n",
       "    </tr>\n",
       "    <tr>\n",
       "      <th>4</th>\n",
       "      <td>ansa</td>\n",
       "      <td>Beyoncé 'troppo nera', snobbata ai premi del c...</td>\n",
       "      <td>[https://l.facebook.com/l.php?u=https%3A%2F%2F...</td>\n",
       "      <td>1</td>\n",
       "      <td>[https://www.ansa.it/canale_lifestyle/notizie/...</td>\n",
       "    </tr>\n",
       "  </tbody>\n",
       "</table>\n",
       "</div>"
      ],
      "text/plain": [
       "  filename                                            content  \\\n",
       "0     ansa  Un base jumper di 33 anni si è schiantato al s...   \n",
       "1     ansa  Sterminate le api sul tetto del ministero dell...   \n",
       "2     ansa  Le laureate italiane guadagnano la metà dei co...   \n",
       "3     ansa  Le opposizioni sono indisponibili a rinnovare ...   \n",
       "4     ansa  Beyoncé 'troppo nera', snobbata ai premi del c...   \n",
       "\n",
       "                                                link  url_count  \\\n",
       "0  [https://l.facebook.com/l.php?u=https%3A%2F%2F...          1   \n",
       "1  [https://l.facebook.com/l.php?u=https%3A%2F%2F...          1   \n",
       "2  [https://l.facebook.com/l.php?u=https%3A%2F%2F...          1   \n",
       "3  [https://l.facebook.com/l.php?u=https%3A%2F%2F...          1   \n",
       "4  [https://l.facebook.com/l.php?u=https%3A%2F%2F...          1   \n",
       "\n",
       "                                       resolved_link  \n",
       "0  [https://www.ansa.it/lombardia/notizie/2024/09...  \n",
       "1  [https://www.ansa.it/canale_terraegusto/notizi...  \n",
       "2  [https://www.ansa.it/sito/notizie/economia/pmi...  \n",
       "3  [https://www.ansa.it/sito/notizie/politica/202...  \n",
       "4  [https://www.ansa.it/canale_lifestyle/notizie/...  "
      ]
     },
     "execution_count": 330,
     "metadata": {},
     "output_type": "execute_result"
    }
   ],
   "source": [
    "df_filtered.head()"
   ]
  },
  {
   "cell_type": "code",
   "execution_count": 331,
   "id": "84d2c741205389d1",
   "metadata": {
    "ExecuteTime": {
     "end_time": "2024-09-11T20:54:19.488842Z",
     "start_time": "2024-09-11T20:54:19.484539Z"
    }
   },
   "outputs": [],
   "source": [
    "# Function to extract the first (and only) URL from the list in 'resolved_link'\n",
    "def extract_single_url(links):\n",
    "    return links[0] if links else pd.NA"
   ]
  },
  {
   "cell_type": "code",
   "execution_count": 332,
   "id": "6aa2269714fa758f",
   "metadata": {
    "ExecuteTime": {
     "end_time": "2024-09-11T20:54:19.497528Z",
     "start_time": "2024-09-11T20:54:19.489850Z"
    }
   },
   "outputs": [],
   "source": [
    "# Create a copy of df_filtered to avoid the SettingWithCopyWarning\n",
    "df_filtered = df_filtered.copy()\n",
    "\n",
    "# Rename 'link' column to 'link2'\n",
    "df_filtered.rename(columns={'link': 'link2'}, inplace=True)\n",
    "\n",
    "# Apply the extract_single_url function to the 'resolved_link' column and assign it to a new 'link' column\n",
    "df_filtered['link'] = df_filtered['resolved_link'].apply(extract_single_url)\n",
    "\n",
    "# Drop the unnecessary columns: 'link2', 'url_count', 'resolved_link', and 'filename'\n",
    "df_filtered.drop(columns=['link2', 'url_count', 'resolved_link', 'filename'], inplace=True)\n"
   ]
  },
  {
   "cell_type": "code",
   "execution_count": 333,
   "id": "e7824801d285ffdf",
   "metadata": {
    "ExecuteTime": {
     "end_time": "2024-09-11T20:54:19.508015Z",
     "start_time": "2024-09-11T20:54:19.498534Z"
    }
   },
   "outputs": [
    {
     "data": {
      "text/html": [
       "<div>\n",
       "<style scoped>\n",
       "    .dataframe tbody tr th:only-of-type {\n",
       "        vertical-align: middle;\n",
       "    }\n",
       "\n",
       "    .dataframe tbody tr th {\n",
       "        vertical-align: top;\n",
       "    }\n",
       "\n",
       "    .dataframe thead th {\n",
       "        text-align: right;\n",
       "    }\n",
       "</style>\n",
       "<table border=\"1\" class=\"dataframe\">\n",
       "  <thead>\n",
       "    <tr style=\"text-align: right;\">\n",
       "      <th></th>\n",
       "      <th>content</th>\n",
       "      <th>link</th>\n",
       "    </tr>\n",
       "  </thead>\n",
       "  <tbody>\n",
       "    <tr>\n",
       "      <th>0</th>\n",
       "      <td>Un base jumper di 33 anni si è schiantato al s...</td>\n",
       "      <td>https://www.ansa.it/lombardia/notizie/2024/09/...</td>\n",
       "    </tr>\n",
       "    <tr>\n",
       "      <th>1</th>\n",
       "      <td>Sterminate le api sul tetto del ministero dell...</td>\n",
       "      <td>https://www.ansa.it/canale_terraegusto/notizie...</td>\n",
       "    </tr>\n",
       "    <tr>\n",
       "      <th>2</th>\n",
       "      <td>Le laureate italiane guadagnano la metà dei co...</td>\n",
       "      <td>https://www.ansa.it/sito/notizie/economia/pmi/...</td>\n",
       "    </tr>\n",
       "    <tr>\n",
       "      <th>3</th>\n",
       "      <td>Le opposizioni sono indisponibili a rinnovare ...</td>\n",
       "      <td>https://www.ansa.it/sito/notizie/politica/2024...</td>\n",
       "    </tr>\n",
       "    <tr>\n",
       "      <th>4</th>\n",
       "      <td>Beyoncé 'troppo nera', snobbata ai premi del c...</td>\n",
       "      <td>https://www.ansa.it/canale_lifestyle/notizie/p...</td>\n",
       "    </tr>\n",
       "  </tbody>\n",
       "</table>\n",
       "</div>"
      ],
      "text/plain": [
       "                                             content  \\\n",
       "0  Un base jumper di 33 anni si è schiantato al s...   \n",
       "1  Sterminate le api sul tetto del ministero dell...   \n",
       "2  Le laureate italiane guadagnano la metà dei co...   \n",
       "3  Le opposizioni sono indisponibili a rinnovare ...   \n",
       "4  Beyoncé 'troppo nera', snobbata ai premi del c...   \n",
       "\n",
       "                                                link  \n",
       "0  https://www.ansa.it/lombardia/notizie/2024/09/...  \n",
       "1  https://www.ansa.it/canale_terraegusto/notizie...  \n",
       "2  https://www.ansa.it/sito/notizie/economia/pmi/...  \n",
       "3  https://www.ansa.it/sito/notizie/politica/2024...  \n",
       "4  https://www.ansa.it/canale_lifestyle/notizie/p...  "
      ]
     },
     "execution_count": 333,
     "metadata": {},
     "output_type": "execute_result"
    }
   ],
   "source": [
    "df_filtered.head()"
   ]
  },
  {
   "cell_type": "markdown",
   "id": "313eb8450eb677b4",
   "metadata": {},
   "source": [
    "### Scraping ANSA website"
   ]
  },
  {
   "cell_type": "code",
   "execution_count": 334,
   "id": "ff4f5b73e57a43c3",
   "metadata": {
    "ExecuteTime": {
     "end_time": "2024-09-11T20:54:19.514529Z",
     "start_time": "2024-09-11T20:54:19.509026Z"
    }
   },
   "outputs": [],
   "source": [
    "# Define a function to scrape the news article text from ANSA website\n",
    "def scrape_ansa_article(url):\n",
    "    try:\n",
    "        # Request the web page\n",
    "        response = requests.get(url)\n",
    "        response.raise_for_status()  # Check for HTTP errors\n",
    "        soup = BeautifulSoup(response.text, 'html.parser')\n",
    "\n",
    "        # Find the main content container (specific to ANSA website)\n",
    "        article_body = soup.find('div', {'class': 'news-txt'})  # Class where ANSA stores news text\n",
    "\n",
    "        if not article_body:\n",
    "            return pd.NA  # Return NaN if article content is not found\n",
    "\n",
    "        # Extract all paragraph text, excluding ads or unnecessary tags\n",
    "        paragraphs = article_body.find_all('p')\n",
    "        article_text = ' '.join([para.get_text(strip=True) for para in paragraphs])\n",
    "\n",
    "        return article_text\n",
    "    except Exception:\n",
    "        return pd.NA  # Return NaN on any error"
   ]
  },
  {
   "cell_type": "code",
   "execution_count": 339,
   "id": "b3e4cece0d514be2",
   "metadata": {
    "ExecuteTime": {
     "end_time": "2024-09-11T22:07:59.753931Z",
     "start_time": "2024-09-11T21:34:02.832087Z"
    }
   },
   "outputs": [],
   "source": [
    "# Copy the first row as a DataFrame\n",
    "scraped_df = df_filtered.copy(deep=True)\n",
    "\n",
    "# Apply the scraping function to the 'url' of the first row\n",
    "scraped_df['original'] = scraped_df['link'].apply(scrape_ansa_article)"
   ]
  },
  {
   "cell_type": "code",
   "execution_count": 340,
   "id": "c1b915b12eb73e76",
   "metadata": {
    "ExecuteTime": {
     "end_time": "2024-09-11T22:07:59.764839Z",
     "start_time": "2024-09-11T22:07:59.755946Z"
    }
   },
   "outputs": [
    {
     "data": {
      "text/html": [
       "<div>\n",
       "<style scoped>\n",
       "    .dataframe tbody tr th:only-of-type {\n",
       "        vertical-align: middle;\n",
       "    }\n",
       "\n",
       "    .dataframe tbody tr th {\n",
       "        vertical-align: top;\n",
       "    }\n",
       "\n",
       "    .dataframe thead th {\n",
       "        text-align: right;\n",
       "    }\n",
       "</style>\n",
       "<table border=\"1\" class=\"dataframe\">\n",
       "  <thead>\n",
       "    <tr style=\"text-align: right;\">\n",
       "      <th></th>\n",
       "      <th>content</th>\n",
       "      <th>link</th>\n",
       "      <th>original</th>\n",
       "    </tr>\n",
       "  </thead>\n",
       "  <tbody>\n",
       "    <tr>\n",
       "      <th>0</th>\n",
       "      <td>Un base jumper di 33 anni si è schiantato al s...</td>\n",
       "      <td>https://www.ansa.it/lombardia/notizie/2024/09/...</td>\n",
       "      <td>Uno sportivo estremo americano di 33 anni è mo...</td>\n",
       "    </tr>\n",
       "    <tr>\n",
       "      <th>1</th>\n",
       "      <td>Sterminate le api sul tetto del ministero dell...</td>\n",
       "      <td>https://www.ansa.it/canale_terraegusto/notizie...</td>\n",
       "      <td>L'alveare del ministro Lollobrigida è stato at...</td>\n",
       "    </tr>\n",
       "    <tr>\n",
       "      <th>2</th>\n",
       "      <td>Le laureate italiane guadagnano la metà dei co...</td>\n",
       "      <td>https://www.ansa.it/sito/notizie/economia/pmi/...</td>\n",
       "      <td>In Italia, le giovani donne con una laurea gua...</td>\n",
       "    </tr>\n",
       "    <tr>\n",
       "      <th>3</th>\n",
       "      <td>Le opposizioni sono indisponibili a rinnovare ...</td>\n",
       "      <td>https://www.ansa.it/sito/notizie/politica/2024...</td>\n",
       "      <td>\"Le opposizioni sono indisponibili a rinnovare...</td>\n",
       "    </tr>\n",
       "    <tr>\n",
       "      <th>4</th>\n",
       "      <td>Beyoncé 'troppo nera', snobbata ai premi del c...</td>\n",
       "      <td>https://www.ansa.it/canale_lifestyle/notizie/p...</td>\n",
       "      <td>Beyoncé è troppo nera per i Country Music Awar...</td>\n",
       "    </tr>\n",
       "  </tbody>\n",
       "</table>\n",
       "</div>"
      ],
      "text/plain": [
       "                                             content  \\\n",
       "0  Un base jumper di 33 anni si è schiantato al s...   \n",
       "1  Sterminate le api sul tetto del ministero dell...   \n",
       "2  Le laureate italiane guadagnano la metà dei co...   \n",
       "3  Le opposizioni sono indisponibili a rinnovare ...   \n",
       "4  Beyoncé 'troppo nera', snobbata ai premi del c...   \n",
       "\n",
       "                                                link  \\\n",
       "0  https://www.ansa.it/lombardia/notizie/2024/09/...   \n",
       "1  https://www.ansa.it/canale_terraegusto/notizie...   \n",
       "2  https://www.ansa.it/sito/notizie/economia/pmi/...   \n",
       "3  https://www.ansa.it/sito/notizie/politica/2024...   \n",
       "4  https://www.ansa.it/canale_lifestyle/notizie/p...   \n",
       "\n",
       "                                            original  \n",
       "0  Uno sportivo estremo americano di 33 anni è mo...  \n",
       "1  L'alveare del ministro Lollobrigida è stato at...  \n",
       "2  In Italia, le giovani donne con una laurea gua...  \n",
       "3  \"Le opposizioni sono indisponibili a rinnovare...  \n",
       "4  Beyoncé è troppo nera per i Country Music Awar...  "
      ]
     },
     "execution_count": 340,
     "metadata": {},
     "output_type": "execute_result"
    }
   ],
   "source": [
    "scraped_df.head()"
   ]
  },
  {
   "cell_type": "code",
   "execution_count": 341,
   "id": "e5ba5890a6045894",
   "metadata": {
    "ExecuteTime": {
     "end_time": "2024-09-11T22:07:59.772486Z",
     "start_time": "2024-09-11T22:07:59.766861Z"
    }
   },
   "outputs": [],
   "source": [
    "#Swapping columns\n",
    "scraped_df = scraped_df[['original', 'content']]"
   ]
  },
  {
   "cell_type": "code",
   "execution_count": 343,
   "id": "709cdad45d7db104",
   "metadata": {
    "ExecuteTime": {
     "end_time": "2024-09-11T22:25:54.940648Z",
     "start_time": "2024-09-11T22:25:54.931355Z"
    }
   },
   "outputs": [
    {
     "data": {
      "text/html": [
       "<div>\n",
       "<style scoped>\n",
       "    .dataframe tbody tr th:only-of-type {\n",
       "        vertical-align: middle;\n",
       "    }\n",
       "\n",
       "    .dataframe tbody tr th {\n",
       "        vertical-align: top;\n",
       "    }\n",
       "\n",
       "    .dataframe thead th {\n",
       "        text-align: right;\n",
       "    }\n",
       "</style>\n",
       "<table border=\"1\" class=\"dataframe\">\n",
       "  <thead>\n",
       "    <tr style=\"text-align: right;\">\n",
       "      <th></th>\n",
       "      <th>original</th>\n",
       "      <th>content</th>\n",
       "    </tr>\n",
       "  </thead>\n",
       "  <tbody>\n",
       "    <tr>\n",
       "      <th>0</th>\n",
       "      <td>Uno sportivo estremo americano di 33 anni è mo...</td>\n",
       "      <td>Un base jumper di 33 anni si è schiantato al s...</td>\n",
       "    </tr>\n",
       "    <tr>\n",
       "      <th>1</th>\n",
       "      <td>L'alveare del ministro Lollobrigida è stato at...</td>\n",
       "      <td>Sterminate le api sul tetto del ministero dell...</td>\n",
       "    </tr>\n",
       "    <tr>\n",
       "      <th>2</th>\n",
       "      <td>In Italia, le giovani donne con una laurea gua...</td>\n",
       "      <td>Le laureate italiane guadagnano la metà dei co...</td>\n",
       "    </tr>\n",
       "    <tr>\n",
       "      <th>3</th>\n",
       "      <td>\"Le opposizioni sono indisponibili a rinnovare...</td>\n",
       "      <td>Le opposizioni sono indisponibili a rinnovare ...</td>\n",
       "    </tr>\n",
       "    <tr>\n",
       "      <th>4</th>\n",
       "      <td>Beyoncé è troppo nera per i Country Music Awar...</td>\n",
       "      <td>Beyoncé 'troppo nera', snobbata ai premi del c...</td>\n",
       "    </tr>\n",
       "    <tr>\n",
       "      <th>...</th>\n",
       "      <td>...</td>\n",
       "      <td>...</td>\n",
       "    </tr>\n",
       "    <tr>\n",
       "      <th>1825</th>\n",
       "      <td>Papa Francesco è a Piazza San Pietro per l'udi...</td>\n",
       "      <td>\"Il mio pensiero va alle mamme dei soldati ucr...</td>\n",
       "    </tr>\n",
       "    <tr>\n",
       "      <th>1826</th>\n",
       "      <td>Wikipedia scritta con l'intelligenza artificia...</td>\n",
       "      <td>Wikipedia scritta con l'intelligenza artificia...</td>\n",
       "    </tr>\n",
       "    <tr>\n",
       "      <th>1827</th>\n",
       "      <td>MADRID - Zerocalcare ha messo i riflettori sug...</td>\n",
       "      <td>Zerocalcare ha messo i riflettori sugli ezidi ...</td>\n",
       "    </tr>\n",
       "    <tr>\n",
       "      <th>1828</th>\n",
       "      <td>L'Antitrust ha avviato un'istruttoria nei conf...</td>\n",
       "      <td>L'Antitrust ha avviato un'istruttoria nei conf...</td>\n",
       "    </tr>\n",
       "    <tr>\n",
       "      <th>1829</th>\n",
       "      <td>Notte di tensione a Gerusalemme con scontri su...</td>\n",
       "      <td>Scontri sono scoppiati all'interno della mosch...</td>\n",
       "    </tr>\n",
       "  </tbody>\n",
       "</table>\n",
       "<p>1519 rows × 2 columns</p>\n",
       "</div>"
      ],
      "text/plain": [
       "                                               original  \\\n",
       "0     Uno sportivo estremo americano di 33 anni è mo...   \n",
       "1     L'alveare del ministro Lollobrigida è stato at...   \n",
       "2     In Italia, le giovani donne con una laurea gua...   \n",
       "3     \"Le opposizioni sono indisponibili a rinnovare...   \n",
       "4     Beyoncé è troppo nera per i Country Music Awar...   \n",
       "...                                                 ...   \n",
       "1825  Papa Francesco è a Piazza San Pietro per l'udi...   \n",
       "1826  Wikipedia scritta con l'intelligenza artificia...   \n",
       "1827  MADRID - Zerocalcare ha messo i riflettori sug...   \n",
       "1828  L'Antitrust ha avviato un'istruttoria nei conf...   \n",
       "1829  Notte di tensione a Gerusalemme con scontri su...   \n",
       "\n",
       "                                                content  \n",
       "0     Un base jumper di 33 anni si è schiantato al s...  \n",
       "1     Sterminate le api sul tetto del ministero dell...  \n",
       "2     Le laureate italiane guadagnano la metà dei co...  \n",
       "3     Le opposizioni sono indisponibili a rinnovare ...  \n",
       "4     Beyoncé 'troppo nera', snobbata ai premi del c...  \n",
       "...                                                 ...  \n",
       "1825  \"Il mio pensiero va alle mamme dei soldati ucr...  \n",
       "1826  Wikipedia scritta con l'intelligenza artificia...  \n",
       "1827  Zerocalcare ha messo i riflettori sugli ezidi ...  \n",
       "1828  L'Antitrust ha avviato un'istruttoria nei conf...  \n",
       "1829  Scontri sono scoppiati all'interno della mosch...  \n",
       "\n",
       "[1519 rows x 2 columns]"
      ]
     },
     "execution_count": 343,
     "metadata": {},
     "output_type": "execute_result"
    }
   ],
   "source": [
    "scraped_df.head()"
   ]
  },
  {
   "cell_type": "code",
   "execution_count": 344,
   "id": "3faa78ff0741c3e2",
   "metadata": {
    "ExecuteTime": {
     "end_time": "2024-09-11T22:29:49.875217Z",
     "start_time": "2024-09-11T22:29:49.869726Z"
    }
   },
   "outputs": [],
   "source": [
    "# Remove rows with no scraped content\n",
    "scraped_df = scraped_df.dropna()"
   ]
  },
  {
   "cell_type": "code",
   "execution_count": 348,
   "id": "b70da338c17a13d2",
   "metadata": {
    "ExecuteTime": {
     "end_time": "2024-09-11T22:45:08.647095Z",
     "start_time": "2024-09-11T22:45:08.635902Z"
    }
   },
   "outputs": [
    {
     "data": {
      "text/html": [
       "<div>\n",
       "<style scoped>\n",
       "    .dataframe tbody tr th:only-of-type {\n",
       "        vertical-align: middle;\n",
       "    }\n",
       "\n",
       "    .dataframe tbody tr th {\n",
       "        vertical-align: top;\n",
       "    }\n",
       "\n",
       "    .dataframe thead th {\n",
       "        text-align: right;\n",
       "    }\n",
       "</style>\n",
       "<table border=\"1\" class=\"dataframe\">\n",
       "  <thead>\n",
       "    <tr style=\"text-align: right;\">\n",
       "      <th></th>\n",
       "      <th>original</th>\n",
       "      <th>content</th>\n",
       "    </tr>\n",
       "  </thead>\n",
       "  <tbody>\n",
       "    <tr>\n",
       "      <th>0</th>\n",
       "      <td>Uno sportivo estremo americano di 33 anni è mo...</td>\n",
       "      <td>Un base jumper di 33 anni si è schiantato al s...</td>\n",
       "    </tr>\n",
       "    <tr>\n",
       "      <th>1</th>\n",
       "      <td>L'alveare del ministro Lollobrigida è stato at...</td>\n",
       "      <td>Sterminate le api sul tetto del ministero dell...</td>\n",
       "    </tr>\n",
       "    <tr>\n",
       "      <th>2</th>\n",
       "      <td>In Italia, le giovani donne con una laurea gua...</td>\n",
       "      <td>Le laureate italiane guadagnano la metà dei co...</td>\n",
       "    </tr>\n",
       "    <tr>\n",
       "      <th>3</th>\n",
       "      <td>\"Le opposizioni sono indisponibili a rinnovare...</td>\n",
       "      <td>Le opposizioni sono indisponibili a rinnovare ...</td>\n",
       "    </tr>\n",
       "    <tr>\n",
       "      <th>4</th>\n",
       "      <td>Beyoncé è troppo nera per i Country Music Awar...</td>\n",
       "      <td>Beyoncé 'troppo nera', snobbata ai premi del c...</td>\n",
       "    </tr>\n",
       "    <tr>\n",
       "      <th>...</th>\n",
       "      <td>...</td>\n",
       "      <td>...</td>\n",
       "    </tr>\n",
       "    <tr>\n",
       "      <th>1825</th>\n",
       "      <td>Papa Francesco è a Piazza San Pietro per l'udi...</td>\n",
       "      <td>\"Il mio pensiero va alle mamme dei soldati ucr...</td>\n",
       "    </tr>\n",
       "    <tr>\n",
       "      <th>1826</th>\n",
       "      <td>Wikipedia scritta con l'intelligenza artificia...</td>\n",
       "      <td>Wikipedia scritta con l'intelligenza artificia...</td>\n",
       "    </tr>\n",
       "    <tr>\n",
       "      <th>1827</th>\n",
       "      <td>MADRID - Zerocalcare ha messo i riflettori sug...</td>\n",
       "      <td>Zerocalcare ha messo i riflettori sugli ezidi ...</td>\n",
       "    </tr>\n",
       "    <tr>\n",
       "      <th>1828</th>\n",
       "      <td>L'Antitrust ha avviato un'istruttoria nei conf...</td>\n",
       "      <td>L'Antitrust ha avviato un'istruttoria nei conf...</td>\n",
       "    </tr>\n",
       "    <tr>\n",
       "      <th>1829</th>\n",
       "      <td>Notte di tensione a Gerusalemme con scontri su...</td>\n",
       "      <td>Scontri sono scoppiati all'interno della mosch...</td>\n",
       "    </tr>\n",
       "  </tbody>\n",
       "</table>\n",
       "<p>1483 rows × 2 columns</p>\n",
       "</div>"
      ],
      "text/plain": [
       "                                               original  \\\n",
       "0     Uno sportivo estremo americano di 33 anni è mo...   \n",
       "1     L'alveare del ministro Lollobrigida è stato at...   \n",
       "2     In Italia, le giovani donne con una laurea gua...   \n",
       "3     \"Le opposizioni sono indisponibili a rinnovare...   \n",
       "4     Beyoncé è troppo nera per i Country Music Awar...   \n",
       "...                                                 ...   \n",
       "1825  Papa Francesco è a Piazza San Pietro per l'udi...   \n",
       "1826  Wikipedia scritta con l'intelligenza artificia...   \n",
       "1827  MADRID - Zerocalcare ha messo i riflettori sug...   \n",
       "1828  L'Antitrust ha avviato un'istruttoria nei conf...   \n",
       "1829  Notte di tensione a Gerusalemme con scontri su...   \n",
       "\n",
       "                                                content  \n",
       "0     Un base jumper di 33 anni si è schiantato al s...  \n",
       "1     Sterminate le api sul tetto del ministero dell...  \n",
       "2     Le laureate italiane guadagnano la metà dei co...  \n",
       "3     Le opposizioni sono indisponibili a rinnovare ...  \n",
       "4     Beyoncé 'troppo nera', snobbata ai premi del c...  \n",
       "...                                                 ...  \n",
       "1825  \"Il mio pensiero va alle mamme dei soldati ucr...  \n",
       "1826  Wikipedia scritta con l'intelligenza artificia...  \n",
       "1827  Zerocalcare ha messo i riflettori sugli ezidi ...  \n",
       "1828  L'Antitrust ha avviato un'istruttoria nei conf...  \n",
       "1829  Scontri sono scoppiati all'interno della mosch...  \n",
       "\n",
       "[1483 rows x 2 columns]"
      ]
     },
     "execution_count": 348,
     "metadata": {},
     "output_type": "execute_result"
    }
   ],
   "source": [
    "scraped_df"
   ]
  },
  {
   "cell_type": "markdown",
   "id": "63461b34a3a0ed62",
   "metadata": {},
   "source": [
    "### Removing harmful content"
   ]
  },
  {
   "cell_type": "code",
   "execution_count": 365,
   "id": "e3ad909cb8d58cd6",
   "metadata": {
    "ExecuteTime": {
     "end_time": "2024-09-11T23:04:38.190729Z",
     "start_time": "2024-09-11T23:04:38.039067Z"
    }
   },
   "outputs": [],
   "source": [
    "# Remove \"Riproduzione\\s+riservata\\s+©\\s+Copyright\\s+ANSA\" from 'original' column after trimming and converting to lowercase   \n",
    "scraped_cleaned_df = scraped_df.copy()\n",
    "scraped_cleaned_df['original'] = scraped_cleaned_df['original'].str.strip().str.replace(r'\\s*Riproduzione\\s+riservata\\s+©\\s+Copyright\\s+ANSA\\s*$', '', case=False, regex=True)"
   ]
  },
  {
   "cell_type": "code",
   "execution_count": 366,
   "id": "1ed64ab367808998",
   "metadata": {
    "ExecuteTime": {
     "end_time": "2024-09-11T23:04:38.811810Z",
     "start_time": "2024-09-11T23:04:38.781881Z"
    }
   },
   "outputs": [],
   "source": [
    "# Remove \"with a story:\" from 'content' column after trimming and converting to lowercase   \n",
    "scraped_cleaned_df['content'] = scraped_cleaned_df['content'].str.strip().str.replace(r'\\s*with a story:s*$', '', case=False, regex=True)"
   ]
  },
  {
   "cell_type": "code",
   "execution_count": 367,
   "id": "c2f512edbabaa102",
   "metadata": {
    "ExecuteTime": {
     "end_time": "2024-09-11T23:04:41.096860Z",
     "start_time": "2024-09-11T23:04:41.075966Z"
    }
   },
   "outputs": [],
   "source": [
    "# Remove \"with a video:\" from 'content' column after trimming and converting to lowercase   \n",
    "scraped_cleaned_df['content'] = scraped_cleaned_df['content'].str.strip().str.replace(r'\\s*with a video:s*$', '', case=False, regex=True)"
   ]
  },
  {
   "cell_type": "code",
   "execution_count": 368,
   "id": "a1816c73e86d1012",
   "metadata": {
    "ExecuteTime": {
     "end_time": "2024-09-11T23:04:41.939942Z",
     "start_time": "2024-09-11T23:04:41.921217Z"
    }
   },
   "outputs": [],
   "source": [
    "# Remove \"with a photo:\" from 'content' column after trimming and converting to lowercase   \n",
    "scraped_cleaned_df['content'] = scraped_cleaned_df['content'].str.strip().str.replace(r'\\s*with a Photo:s*$', '', case=False, regex=True)"
   ]
  },
  {
   "cell_type": "code",
   "execution_count": 369,
   "id": "b89833eaa1829dea",
   "metadata": {
    "ExecuteTime": {
     "end_time": "2024-09-11T23:04:48.139671Z",
     "start_time": "2024-09-11T23:04:48.121808Z"
    }
   },
   "outputs": [],
   "source": [
    "# Remove \"attachments:\" from 'content' column after trimming and converting to lowercase   \n",
    "scraped_cleaned_df['content'] = scraped_cleaned_df['content'].str.strip().str.replace(r'\\s*Attachments:s*$', '', case=False, regex=True)"
   ]
  },
  {
   "cell_type": "code",
   "execution_count": 370,
   "id": "4b0947cfa06bd65c",
   "metadata": {
    "ExecuteTime": {
     "end_time": "2024-09-11T23:04:49.311513Z",
     "start_time": "2024-09-11T23:04:49.301248Z"
    }
   },
   "outputs": [
    {
     "data": {
      "text/html": [
       "<div>\n",
       "<style scoped>\n",
       "    .dataframe tbody tr th:only-of-type {\n",
       "        vertical-align: middle;\n",
       "    }\n",
       "\n",
       "    .dataframe tbody tr th {\n",
       "        vertical-align: top;\n",
       "    }\n",
       "\n",
       "    .dataframe thead th {\n",
       "        text-align: right;\n",
       "    }\n",
       "</style>\n",
       "<table border=\"1\" class=\"dataframe\">\n",
       "  <thead>\n",
       "    <tr style=\"text-align: right;\">\n",
       "      <th></th>\n",
       "      <th>original</th>\n",
       "      <th>content</th>\n",
       "    </tr>\n",
       "  </thead>\n",
       "  <tbody>\n",
       "    <tr>\n",
       "      <th>0</th>\n",
       "      <td>Uno sportivo estremo americano di 33 anni è mo...</td>\n",
       "      <td>Un base jumper di 33 anni si è schiantato al s...</td>\n",
       "    </tr>\n",
       "    <tr>\n",
       "      <th>1</th>\n",
       "      <td>L'alveare del ministro Lollobrigida è stato at...</td>\n",
       "      <td>Sterminate le api sul tetto del ministero dell...</td>\n",
       "    </tr>\n",
       "    <tr>\n",
       "      <th>2</th>\n",
       "      <td>In Italia, le giovani donne con una laurea gua...</td>\n",
       "      <td>Le laureate italiane guadagnano la metà dei co...</td>\n",
       "    </tr>\n",
       "    <tr>\n",
       "      <th>3</th>\n",
       "      <td>\"Le opposizioni sono indisponibili a rinnovare...</td>\n",
       "      <td>Le opposizioni sono indisponibili a rinnovare ...</td>\n",
       "    </tr>\n",
       "    <tr>\n",
       "      <th>4</th>\n",
       "      <td>Beyoncé è troppo nera per i Country Music Awar...</td>\n",
       "      <td>Beyoncé 'troppo nera', snobbata ai premi del c...</td>\n",
       "    </tr>\n",
       "  </tbody>\n",
       "</table>\n",
       "</div>"
      ],
      "text/plain": [
       "                                            original  \\\n",
       "0  Uno sportivo estremo americano di 33 anni è mo...   \n",
       "1  L'alveare del ministro Lollobrigida è stato at...   \n",
       "2  In Italia, le giovani donne con una laurea gua...   \n",
       "3  \"Le opposizioni sono indisponibili a rinnovare...   \n",
       "4  Beyoncé è troppo nera per i Country Music Awar...   \n",
       "\n",
       "                                             content  \n",
       "0  Un base jumper di 33 anni si è schiantato al s...  \n",
       "1  Sterminate le api sul tetto del ministero dell...  \n",
       "2  Le laureate italiane guadagnano la metà dei co...  \n",
       "3  Le opposizioni sono indisponibili a rinnovare ...  \n",
       "4  Beyoncé 'troppo nera', snobbata ai premi del c...  "
      ]
     },
     "execution_count": 370,
     "metadata": {},
     "output_type": "execute_result"
    }
   ],
   "source": [
    "scraped_cleaned_df.head()"
   ]
  },
  {
   "cell_type": "code",
   "execution_count": 373,
   "id": "98c46c51289320cd",
   "metadata": {
    "ExecuteTime": {
     "end_time": "2024-09-11T23:05:14.892099Z",
     "start_time": "2024-09-11T23:05:14.883349Z"
    }
   },
   "outputs": [],
   "source": [
    "# Replace empty strings with pd.NA\n",
    "scraped_cleaned_df['original'].str.strip()\n",
    "scraped_cleaned_df['content'].str.strip()\n",
    "scraped_cleaned_df.replace(\"\", pd.NA, inplace=True)\n",
    "\n",
    "# Remove rows with NA\n",
    "scraped_cleaned_df = scraped_cleaned_df.dropna()"
   ]
  },
  {
   "cell_type": "code",
   "execution_count": 375,
   "id": "255bbd6ac05ae263",
   "metadata": {
    "ExecuteTime": {
     "end_time": "2024-09-11T23:15:16.231690Z",
     "start_time": "2024-09-11T23:15:16.222637Z"
    }
   },
   "outputs": [
    {
     "data": {
      "text/html": [
       "<div>\n",
       "<style scoped>\n",
       "    .dataframe tbody tr th:only-of-type {\n",
       "        vertical-align: middle;\n",
       "    }\n",
       "\n",
       "    .dataframe tbody tr th {\n",
       "        vertical-align: top;\n",
       "    }\n",
       "\n",
       "    .dataframe thead th {\n",
       "        text-align: right;\n",
       "    }\n",
       "</style>\n",
       "<table border=\"1\" class=\"dataframe\">\n",
       "  <thead>\n",
       "    <tr style=\"text-align: right;\">\n",
       "      <th></th>\n",
       "      <th>original</th>\n",
       "      <th>content</th>\n",
       "    </tr>\n",
       "  </thead>\n",
       "  <tbody>\n",
       "    <tr>\n",
       "      <th>0</th>\n",
       "      <td>Uno sportivo estremo americano di 33 anni è mo...</td>\n",
       "      <td>Un base jumper di 33 anni si è schiantato al s...</td>\n",
       "    </tr>\n",
       "    <tr>\n",
       "      <th>1</th>\n",
       "      <td>L'alveare del ministro Lollobrigida è stato at...</td>\n",
       "      <td>Sterminate le api sul tetto del ministero dell...</td>\n",
       "    </tr>\n",
       "    <tr>\n",
       "      <th>2</th>\n",
       "      <td>In Italia, le giovani donne con una laurea gua...</td>\n",
       "      <td>Le laureate italiane guadagnano la metà dei co...</td>\n",
       "    </tr>\n",
       "    <tr>\n",
       "      <th>3</th>\n",
       "      <td>\"Le opposizioni sono indisponibili a rinnovare...</td>\n",
       "      <td>Le opposizioni sono indisponibili a rinnovare ...</td>\n",
       "    </tr>\n",
       "    <tr>\n",
       "      <th>4</th>\n",
       "      <td>Beyoncé è troppo nera per i Country Music Awar...</td>\n",
       "      <td>Beyoncé 'troppo nera', snobbata ai premi del c...</td>\n",
       "    </tr>\n",
       "  </tbody>\n",
       "</table>\n",
       "</div>"
      ],
      "text/plain": [
       "                                            original  \\\n",
       "0  Uno sportivo estremo americano di 33 anni è mo...   \n",
       "1  L'alveare del ministro Lollobrigida è stato at...   \n",
       "2  In Italia, le giovani donne con una laurea gua...   \n",
       "3  \"Le opposizioni sono indisponibili a rinnovare...   \n",
       "4  Beyoncé è troppo nera per i Country Music Awar...   \n",
       "\n",
       "                                             content  \n",
       "0  Un base jumper di 33 anni si è schiantato al s...  \n",
       "1  Sterminate le api sul tetto del ministero dell...  \n",
       "2  Le laureate italiane guadagnano la metà dei co...  \n",
       "3  Le opposizioni sono indisponibili a rinnovare ...  \n",
       "4  Beyoncé 'troppo nera', snobbata ai premi del c...  "
      ]
     },
     "execution_count": 375,
     "metadata": {},
     "output_type": "execute_result"
    }
   ],
   "source": [
    "scraped_cleaned_df.head()"
   ]
  },
  {
   "cell_type": "markdown",
   "id": "d068231e3e59c076",
   "metadata": {},
   "source": [
    "### Saving the dataset"
   ]
  },
  {
   "cell_type": "code",
   "execution_count": 380,
   "id": "82827d45ae0d27ce",
   "metadata": {
    "ExecuteTime": {
     "end_time": "2024-09-11T23:20:22.122968Z",
     "start_time": "2024-09-11T23:20:22.117843Z"
    }
   },
   "outputs": [],
   "source": [
    "# Rename the columns\n",
    "scraped_cleaned_df = scraped_cleaned_df.rename(columns={'original': 'journalistic', 'content': 'conversational'})"
   ]
  },
  {
   "cell_type": "code",
   "execution_count": 381,
   "id": "7d4f246b5e33f317",
   "metadata": {
    "ExecuteTime": {
     "end_time": "2024-09-11T23:20:29.340283Z",
     "start_time": "2024-09-11T23:20:29.331358Z"
    }
   },
   "outputs": [
    {
     "data": {
      "text/html": [
       "<div>\n",
       "<style scoped>\n",
       "    .dataframe tbody tr th:only-of-type {\n",
       "        vertical-align: middle;\n",
       "    }\n",
       "\n",
       "    .dataframe tbody tr th {\n",
       "        vertical-align: top;\n",
       "    }\n",
       "\n",
       "    .dataframe thead th {\n",
       "        text-align: right;\n",
       "    }\n",
       "</style>\n",
       "<table border=\"1\" class=\"dataframe\">\n",
       "  <thead>\n",
       "    <tr style=\"text-align: right;\">\n",
       "      <th></th>\n",
       "      <th>journalistic</th>\n",
       "      <th>conversational</th>\n",
       "    </tr>\n",
       "  </thead>\n",
       "  <tbody>\n",
       "    <tr>\n",
       "      <th>0</th>\n",
       "      <td>Uno sportivo estremo americano di 33 anni è mo...</td>\n",
       "      <td>Un base jumper di 33 anni si è schiantato al s...</td>\n",
       "    </tr>\n",
       "    <tr>\n",
       "      <th>1</th>\n",
       "      <td>L'alveare del ministro Lollobrigida è stato at...</td>\n",
       "      <td>Sterminate le api sul tetto del ministero dell...</td>\n",
       "    </tr>\n",
       "    <tr>\n",
       "      <th>2</th>\n",
       "      <td>In Italia, le giovani donne con una laurea gua...</td>\n",
       "      <td>Le laureate italiane guadagnano la metà dei co...</td>\n",
       "    </tr>\n",
       "    <tr>\n",
       "      <th>3</th>\n",
       "      <td>\"Le opposizioni sono indisponibili a rinnovare...</td>\n",
       "      <td>Le opposizioni sono indisponibili a rinnovare ...</td>\n",
       "    </tr>\n",
       "    <tr>\n",
       "      <th>4</th>\n",
       "      <td>Beyoncé è troppo nera per i Country Music Awar...</td>\n",
       "      <td>Beyoncé 'troppo nera', snobbata ai premi del c...</td>\n",
       "    </tr>\n",
       "  </tbody>\n",
       "</table>\n",
       "</div>"
      ],
      "text/plain": [
       "                                        journalistic  \\\n",
       "0  Uno sportivo estremo americano di 33 anni è mo...   \n",
       "1  L'alveare del ministro Lollobrigida è stato at...   \n",
       "2  In Italia, le giovani donne con una laurea gua...   \n",
       "3  \"Le opposizioni sono indisponibili a rinnovare...   \n",
       "4  Beyoncé è troppo nera per i Country Music Awar...   \n",
       "\n",
       "                                      conversational  \n",
       "0  Un base jumper di 33 anni si è schiantato al s...  \n",
       "1  Sterminate le api sul tetto del ministero dell...  \n",
       "2  Le laureate italiane guadagnano la metà dei co...  \n",
       "3  Le opposizioni sono indisponibili a rinnovare ...  \n",
       "4  Beyoncé 'troppo nera', snobbata ai premi del c...  "
      ]
     },
     "execution_count": 381,
     "metadata": {},
     "output_type": "execute_result"
    }
   ],
   "source": [
    "scraped_cleaned_df.head()"
   ]
  },
  {
   "cell_type": "code",
   "execution_count": 384,
   "id": "870e4a2eb6e906ec",
   "metadata": {
    "ExecuteTime": {
     "end_time": "2024-09-11T23:21:09.245083Z",
     "start_time": "2024-09-11T23:21:09.137007Z"
    }
   },
   "outputs": [],
   "source": [
    "scraped_cleaned_df.to_csv(\"../corpora/J2C_news_IT.csv\", index=False)"
   ]
  }
 ],
 "metadata": {
  "kernelspec": {
   "display_name": "Python 3",
   "language": "python",
   "name": "python3"
  },
  "language_info": {
   "codemirror_mode": {
    "name": "ipython",
    "version": 2
   },
   "file_extension": ".py",
   "mimetype": "text/x-python",
   "name": "python",
   "nbconvert_exporter": "python",
   "pygments_lexer": "ipython2",
   "version": "2.7.6"
  }
 },
 "nbformat": 4,
 "nbformat_minor": 5
}
